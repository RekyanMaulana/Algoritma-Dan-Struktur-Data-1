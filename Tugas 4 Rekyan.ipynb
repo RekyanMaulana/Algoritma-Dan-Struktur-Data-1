{
 "cells": [
  {
   "cell_type": "code",
   "execution_count": 1,
   "metadata": {},
   "outputs": [
    {
     "name": "stdout",
     "output_type": "stream",
     "text": [
      "Hasil 5 + 3 = 8\n",
      "Hasil 5 - 3 = 2\n",
      "Hasil 5 * 3 = 15\n",
      "Hasil 5 / 3 = 1.6666666666666667\n",
      "Hasil 5 % 3 = 2\n",
      "Hasil 5 ** 3 = 125\n"
     ]
    }
   ],
   "source": [
    "#RekyanMaulana\n",
    "#OPERTAOR ARITMATIKA\n",
    "\n",
    "a = 5\n",
    "b = 3\n",
    "\n",
    "#Menggunakan operator penjumlahan\n",
    "x = a + b\n",
    "print (\"Hasil\", a, \"+\", b, \"=\", x)\n",
    "\n",
    "#Menggunakan operator pengurangan\n",
    "x = a - b\n",
    "print (\"Hasil\", a, \"-\", b, \"=\", x)\n",
    "\n",
    "#Menggunakan operator perkalian\n",
    "x = a * b\n",
    "print (\"Hasil\", a, \"*\", b, \"=\", x)\n",
    "\n",
    "#Menggunakan operator pembagian\n",
    "x = a / b\n",
    "print (\"Hasil\", a, \"/\", b, \"=\", x)\n",
    "\n",
    "#Menggunakan operator sisa bagi\n",
    "x = a % b\n",
    "print (\"Hasil\", a, \"%\", b, \"=\", x)\n",
    "\n",
    "#Menggunakan operator pemangkatan\n",
    "x = a ** b\n",
    "print (\"Hasil\", a, \"**\", b, \"=\", x)"
   ]
  },
  {
   "cell_type": "code",
   "execution_count": 5,
   "metadata": {},
   "outputs": [
    {
     "name": "stdout",
     "output_type": "stream",
     "text": [
      "5\n",
      "8\n",
      "6\n",
      "12\n",
      "6.0\n",
      "2.0\n",
      "4.0\n"
     ]
    }
   ],
   "source": [
    "#RekyanMaulana\n",
    "#OPERATOR PENUGASAN\n",
    "\n",
    "#Mengunakan operator pengisian\n",
    "a = 5\n",
    "print (a)\n",
    "\n",
    "#Menggunakan operator penjumlahan\n",
    "a += 3\n",
    "print (a)\n",
    "\n",
    "#Menggunakan operator pengurangan\n",
    "a -= 2\n",
    "print (a)\n",
    "\n",
    "#Menggunakan operator perkalian\n",
    "a *= 2\n",
    "print (a)\n",
    "\n",
    "#Menggunakan operator pembagian\n",
    "a /= 2\n",
    "print (a)\n",
    "\n",
    "#Menggunakan operator sisa bagi\n",
    "a %= 4\n",
    "print (a)\n",
    "\n",
    "#Menggunakan operator pemangkatan\n",
    "a **= 2\n",
    "print (a)"
   ]
  },
  {
   "cell_type": "code",
   "execution_count": 7,
   "metadata": {},
   "outputs": [
    {
     "name": "stdout",
     "output_type": "stream",
     "text": [
      "Apakah a lebih besar dari b: True\n",
      "Apakah a lebih kecih dari b: False\n",
      "Apakah a sama dengan b: False\n",
      "Apakah a tidak sama dengan b: True\n",
      "Apakah a lebih besar sama dengan b: True\n",
      "Apakah a lebih kecil sama dengan b: False\n"
     ]
    }
   ],
   "source": [
    "#RekyanMaulana\n",
    "#OPERATOR PEMBANDING\n",
    "\n",
    "a = 8\n",
    "b = 5\n",
    "\n",
    "#apakah a lebih besar dari b?\n",
    "x = a > b\n",
    "print (\"Apakah a lebih besar dari b:\", x)\n",
    "\n",
    "#apakah a lebih kecil dari b?\n",
    "x = a < b\n",
    "print (\"Apakah a lebih kecih dari b:\", x)\n",
    "\n",
    "#apakah a sama dengan b?\n",
    "x = a == b\n",
    "print (\"Apakah a sama dengan b:\", x)\n",
    "\n",
    "#apakah a tidak sama dengan b?\n",
    "x = a != b\n",
    "print (\"Apakah a tidak sama dengan b:\", x)\n",
    "\n",
    "#apakah a lebih besar sama dengan b?\n",
    "x = a >= b\n",
    "print (\"Apakah a lebih besar sama dengan b:\", x)\n",
    "\n",
    "#apakah a lebih kecil sama dengan b?\n",
    "x = a <= b\n",
    "print (\"Apakah a lebih kecil sama dengan b:\", x)"
   ]
  },
  {
   "cell_type": "code",
   "execution_count": 3,
   "metadata": {},
   "outputs": [
    {
     "name": "stdout",
     "output_type": "stream",
     "text": [
      "False\n",
      "True\n",
      "False\n"
     ]
    }
   ],
   "source": [
    "#RekyanMaulana\n",
    "#OPERATOR LOGIKA\n",
    "\n",
    "a = True\n",
    "b = False\n",
    "\n",
    "#Logika AND\n",
    "x = a and b\n",
    "print (x)\n",
    "\n",
    "#Logika OR\n",
    "x = a or b\n",
    "print (x)\n",
    "\n",
    "#Negasi/kebalikan\n",
    "x = a | b\n",
    "print (x)"
   ]
  },
  {
   "cell_type": "code",
   "execution_count": 6,
   "metadata": {},
   "outputs": [
    {
     "name": "stdout",
     "output_type": "stream",
     "text": [
      "Masukkan nama bayi : Rere\n",
      "Masukkan berat bayi : 3\n",
      "Berat badan dalam ons 30 Ons\n",
      "Berat bayi 1 bulan kedepan adalah 60\n"
     ]
    }
   ],
   "source": [
    "#RekyanMaulana\n",
    "#INPUT OUTPUT\n",
    "\n",
    "nama = input (\"Masukkan nama bayi : \")\n",
    "berat = int (input (\"Masukkan berat bayi : \"))\n",
    "\n",
    "berat_ons = berat * 10\n",
    "\n",
    "print (\"Berat badan dalam ons\", berat_ons, \"Ons\")\n",
    "print (\"Berat bayi 1 bulan kedepan adalah\", berat_ons+30)"
   ]
  },
  {
   "cell_type": "code",
   "execution_count": null,
   "metadata": {},
   "outputs": [],
   "source": []
  }
 ],
 "metadata": {
  "kernelspec": {
   "display_name": "Python 3",
   "language": "python",
   "name": "python3"
  },
  "language_info": {
   "codemirror_mode": {
    "name": "ipython",
    "version": 3
   },
   "file_extension": ".py",
   "mimetype": "text/x-python",
   "name": "python",
   "nbconvert_exporter": "python",
   "pygments_lexer": "ipython3",
   "version": "3.8.3"
  }
 },
 "nbformat": 4,
 "nbformat_minor": 4
}
