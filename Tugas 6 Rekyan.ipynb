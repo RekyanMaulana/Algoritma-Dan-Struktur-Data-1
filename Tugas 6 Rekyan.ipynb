{
 "cells": [
  {
   "cell_type": "code",
   "execution_count": 5,
   "metadata": {},
   "outputs": [
    {
     "name": "stdout",
     "output_type": "stream",
     "text": [
      "Masukkan nilai : 65\n",
      "Kamu harus remidi\n"
     ]
    }
   ],
   "source": [
    "#RekyanMaulana\n",
    "nilai = int(input(\"Masukkan nilai : \"))\n",
    "\n",
    "if nilai < 70:\n",
    "    print(\"Kamu harus remidi\")"
   ]
  },
  {
   "cell_type": "code",
   "execution_count": 6,
   "metadata": {},
   "outputs": [
    {
     "name": "stdout",
     "output_type": "stream",
     "text": [
      "Masukkan nilai : 80\n"
     ]
    }
   ],
   "source": [
    "#RekyanMaulana\n",
    "nilai = int(input(\"Masukkan nilai : \"))\n",
    "\n",
    "if nilai < 70:\n",
    "    print(\"Kamu harus remidi\")"
   ]
  },
  {
   "cell_type": "code",
   "execution_count": 7,
   "metadata": {},
   "outputs": [
    {
     "name": "stdout",
     "output_type": "stream",
     "text": [
      "Masukkan jari-jari: 10\n",
      "L Lingkaran:  314.0\n",
      "Lingkaran ini besar\n"
     ]
    }
   ],
   "source": [
    "#RekyanMaulana\n",
    "\n",
    "r = int(input(\"Masukkan jari-jari: \"))\n",
    "L = 3.14 * r * r\n",
    "print (\"L Lingkaran: \", L)\n",
    "\n",
    "if L > 222:\n",
    "    print (\"Lingkaran ini besar\")\n",
    "else:\n",
    "    print (\"Lingkaran ini kecil\")"
   ]
  },
  {
   "cell_type": "code",
   "execution_count": 9,
   "metadata": {},
   "outputs": [
    {
     "name": "stdout",
     "output_type": "stream",
     "text": [
      "Masukkan nomor program : 1\n",
      "Panjang = 7\n",
      "lebar = 8\n",
      "tinggi = 9\n",
      "Volume balok:  504\n"
     ]
    }
   ],
   "source": [
    "#RekyanMaulana\n",
    "\n",
    "def Volume_Balok():\n",
    "    p = int(input (\"Panjang = \"))\n",
    "    l = int(input (\"lebar = \"))\n",
    "    t = int(input (\"tinggi = \"))\n",
    "    volume_balok = p*l*t\n",
    "    return volume_balok\n",
    "\n",
    "def Volume_Kubus():\n",
    "    s = int(input (\"sisi = \"))\n",
    "    volume_kubus = s*s*s\n",
    "    return volume_kubus\n",
    "\n",
    "program = int (input (\"Masukkan nomor program : \"))\n",
    "\n",
    "if program == 1:\n",
    "    print (\"Volume balok: \", Volume_Balok())\n",
    "elif program == 2:\n",
    "    print (\"Volume kubus: \", Volume_kubus())\n",
    "else:\n",
    "    print (\"Program tidak tersedia\")"
   ]
  }
 ],
 "metadata": {
  "kernelspec": {
   "display_name": "Python 3",
   "language": "python",
   "name": "python3"
  },
  "language_info": {
   "codemirror_mode": {
    "name": "ipython",
    "version": 3
   },
   "file_extension": ".py",
   "mimetype": "text/x-python",
   "name": "python",
   "nbconvert_exporter": "python",
   "pygments_lexer": "ipython3",
   "version": "3.8.3"
  }
 },
 "nbformat": 4,
 "nbformat_minor": 4
}
