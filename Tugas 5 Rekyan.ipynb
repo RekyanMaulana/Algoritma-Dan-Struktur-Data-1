{
 "cells": [
  {
   "cell_type": "code",
   "execution_count": 6,
   "metadata": {},
   "outputs": [
    {
     "name": "stdout",
     "output_type": "stream",
     "text": [
      "I like programming\n",
      "Because I proud to make something new\n"
     ]
    }
   ],
   "source": [
    "#membuat fungsi pertama\n",
    "def alasan ():\n",
    "    print (\"Because I proud to make something new\")\n",
    "#membuat fungsi kedua\n",
    "def hobi ():\n",
    "    print (\"I like programming\")\n",
    "\n",
    "#memanggil fungsi kedua dulu lalu fungsi pertama\n",
    "hobi()\n",
    "alasan()"
   ]
  },
  {
   "cell_type": "code",
   "execution_count": 24,
   "metadata": {},
   "outputs": [
    {
     "name": "stdout",
     "output_type": "stream",
     "text": [
      "Perkenalkan nama saya Rekyan Maulana\n",
      "Luas persegi panjang adalah 70\n"
     ]
    }
   ],
   "source": [
    "#membuat fungsi dengan 1 parameter\n",
    "def ucapan (perkenalandiri):\n",
    "    print (perkenalandiri)\n",
    "    \n",
    "ucapan (\"Perkenalkan nama saya Rekyan Maulana\")\n",
    "\n",
    "#membuat fungsi dengan 2 parameter\n",
    "def luas_persegipanjang(panjang, lebar):\n",
    "    luas = panjang * lebar\n",
    "    print (\"Luas persegi panjang adalah\", luas)\n",
    "    \n",
    "luas_persegipanjang (10,7)"
   ]
  },
  {
   "cell_type": "code",
   "execution_count": 23,
   "metadata": {},
   "outputs": [
    {
     "name": "stdout",
     "output_type": "stream",
     "text": [
      "Luas persegi panjang adalah 54\n",
      "Volume balok adalah 120\n"
     ]
    }
   ],
   "source": [
    "#membuat fungsi return pertama\n",
    "#rumus: panjang x lebar\n",
    "def luas_persegipanjang (panjang, lebar):\n",
    "    luas = panjang * lebar\n",
    "    return luas\n",
    "\n",
    "#rumus: panjang x lebar x tinggi\n",
    "def volume_balok (panjang, lebar, tinggi):\n",
    "    volume = luas_persegipanjang (panjang, lebar) *tinggi\n",
    "    return volume\n",
    "\n",
    "print (\"Luas persegi panjang adalah\", luas_persegipanjang(6, 9))\n",
    "print (\"Volume balok adalah\", volume_balok(5, 4, 6))"
   ]
  },
  {
   "cell_type": "code",
   "execution_count": 25,
   "metadata": {},
   "outputs": [
    {
     "name": "stdout",
     "output_type": "stream",
     "text": [
      "Masukkan angka pertama 5\n",
      "Masukkan angka kedua 4\n",
      "angka pertama sama dengan angka kedua adalah False\n",
      "angka pertama lebih besar dari pada angka kedua True\n"
     ]
    }
   ],
   "source": [
    "#fungsi, input, operator logika\n",
    "angka_1 = int(input(\"Masukkan angka pertama\"))\n",
    "angka_2 = int(input(\"Masukkan angka kedua\"))\n",
    "\n",
    "def fungsi_operator1():\n",
    "    operator1 = angka_1 == angka_2\n",
    "    print (\"angka pertama sama dengan angka kedua adalah\", operator1)\n",
    "def fungsi_operator2():\n",
    "    operator2 = angka_1 > angka_2\n",
    "    print (\"angka pertama lebih besar dari pada angka kedua\", operator2)\n",
    "    \n",
    "fungsi_operator1()\n",
    "fungsi_operator2()"
   ]
  },
  {
   "cell_type": "code",
   "execution_count": null,
   "metadata": {},
   "outputs": [],
   "source": []
  }
 ],
 "metadata": {
  "kernelspec": {
   "display_name": "Python 3",
   "language": "python",
   "name": "python3"
  },
  "language_info": {
   "codemirror_mode": {
    "name": "ipython",
    "version": 3
   },
   "file_extension": ".py",
   "mimetype": "text/x-python",
   "name": "python",
   "nbconvert_exporter": "python",
   "pygments_lexer": "ipython3",
   "version": "3.8.3"
  }
 },
 "nbformat": 4,
 "nbformat_minor": 4
}
